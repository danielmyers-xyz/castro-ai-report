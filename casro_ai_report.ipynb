{
 "cells": [
  {
   "cell_type": "code",
   "execution_count": 1,
   "id": "80edd8fe-8e54-45b3-bbbe-2b25541c67c1",
   "metadata": {},
   "outputs": [],
   "source": [
    "# 1. Load environment variables and create the SQLAlchemy engine\n",
    "import os\n",
    "from dotenv import load_dotenv\n",
    "from sqlalchemy import create_engine\n",
    "import pandas as pd\n",
    "from datetime import date, timedelta\n",
    "import requests, json\n",
    "from sqlalchemy import text"
   ]
  },
  {
   "cell_type": "code",
   "execution_count": 2,
   "id": "f96cdd11-c10b-45d2-ad39-ffa367e1f7b4",
   "metadata": {},
   "outputs": [
    {
     "data": {
      "text/plain": [
       "True"
      ]
     },
     "execution_count": 2,
     "metadata": {},
     "output_type": "execute_result"
    }
   ],
   "source": [
    "# Load .env from working directory\n",
    "load_dotenv('.env')"
   ]
  },
  {
   "cell_type": "code",
   "execution_count": 3,
   "id": "713c80c3-4e79-4b60-8ec3-4638d623abca",
   "metadata": {},
   "outputs": [],
   "source": [
    "# PostGIS connection vars\n",
    "POSTGIS_USER = os.getenv('POSTGRES_USER')\n",
    "POSTGIS_PASS = os.getenv('POSTGRES_PASSWORD')\n",
    "POSTGIS_HOST = os.getenv('POSTGRES_HOST')\n",
    "POSTGIS_PORT = os.getenv('POSTGRES_PORT')\n",
    "POSTGIS_DB   = os.getenv('POSTGRES_DB')\n",
    "\n",
    "# Create the engine\n",
    "engine = create_engine(\n",
    "    f\"postgresql+psycopg2://\"\n",
    "    f\"{POSTGIS_USER}:{POSTGIS_PASS}\"\n",
    "    f\"@{POSTGIS_HOST}:{POSTGIS_PORT}/{POSTGIS_DB}\"\n",
    ")"
   ]
  },
  {
   "cell_type": "code",
   "execution_count": 4,
   "id": "fb968bc5-bd40-4d77-9db4-a63be4f2d526",
   "metadata": {},
   "outputs": [],
   "source": [
    "url = \"http://localhost:11434/api/chat\""
   ]
  },
  {
   "cell_type": "code",
   "execution_count": 5,
   "id": "038cec97-fb9f-4b4f-9b28-c42cd39609f5",
   "metadata": {},
   "outputs": [
    {
     "name": "stdout",
     "output_type": "stream",
     "text": [
      "[datetime.date(2025, 7, 9), datetime.date(2025, 7, 10), datetime.date(2025, 7, 11)]\n"
     ]
    }
   ],
   "source": [
    "# 1) Define the last 3 full days (excluding today)\n",
    "end_exclusive = date.today()\n",
    "start_date   = end_exclusive - timedelta(days=3)   # 3 days before today\n",
    "date_list    = [start_date + timedelta(days=i) for i in range(3)]  \n",
    "today = date.today()\n",
    "\n",
    "# check\n",
    "print(date_list)"
   ]
  },
  {
   "cell_type": "code",
   "execution_count": 6,
   "id": "0a3f29b4-6064-4373-979e-0b05eaa91463",
   "metadata": {},
   "outputs": [],
   "source": [
    "prompt_template = \"\"\"\n",
    "Here are the SF 311 metrics for {date}:\n",
    "\n",
    "**Request Type Breakdown**  \n",
    "{request_table}\n",
    "\n",
    "**Average resolution time:** {avg_time}  \n",
    "**Open-case aging:** {aging}\n",
    "\n",
    "Please write a concise, dashboard-style report that follows this structure exactly:\n",
    "\n",
    "1. **Summary:** “{open_count} open vs. {closed_count} closed cases.”  \n",
    "2. **Top 3 Request Types:** A bulleted list of the three request types.\n",
    "3. **Closing:** One sentence commenting on the resolution speed ({avg_time}) and the open-case aging distribution ({aging}).\n",
    "\n",
    "Use only the numbers shown above; do not add any extra interpretation. Keep it to 5–7 lines of plain text.\n",
    "\"\"\".strip()"
   ]
  },
  {
   "cell_type": "code",
   "execution_count": null,
   "id": "540434e2-fdb9-4d78-9ba5-fe235e522680",
   "metadata": {},
   "outputs": [],
   "source": [
    "md_lines = [\n",
    "    f\"# SF Castro 311 Dashboard Summaries ({date_list[0].isoformat()} → {date_list[-1].isoformat()})\",\n",
    "    \"\"\n",
    "]\n",
    "\n",
    "for dt in date_list:\n",
    "    dt_str = dt.isoformat()\n",
    "\n",
    "    # a) Pull status counts to get open/closed\n",
    "    df_status = pd.read_sql(f\"\"\"\n",
    "        SELECT status, COUNT(*) AS count\n",
    "          FROM castro_311\n",
    "         WHERE opened_ts::date = '{dt_str}'\n",
    "         GROUP BY status;\n",
    "    \"\"\", engine)\n",
    "\n",
    "    open_count   = int(df_status.loc[df_status.status == 'Open',   'count'].sum() or 0)\n",
    "    closed_count = int(df_status.loc[df_status.status == 'Closed', 'count'].sum() or 0)\n",
    "    total = open_count + closed_count\n",
    "\n",
    "    # b) Pull request_type counts\n",
    "    df_req = pd.read_sql(f\"\"\"\n",
    "        SELECT request_type, COUNT(*) AS count\n",
    "          FROM castro_311\n",
    "         WHERE opened_ts::date = '{dt_str}'\n",
    "         GROUP BY request_type\n",
    "         ORDER BY count DESC;\n",
    "    \"\"\", engine)\n",
    "\n",
    "    # c) Average resolution time\n",
    "    avg_hours = pd.read_sql(f\"\"\"\n",
    "        SELECT AVG(EXTRACT(EPOCH FROM (closed_ts - opened_ts)))/3600.0 AS avg_hours\n",
    "          FROM castro_311\n",
    "         WHERE opened_ts::date = '{dt_str}'\n",
    "           AND closed_ts IS NOT NULL;\n",
    "    \"\"\", engine).iloc[0,0] or 0\n",
    "    avg_str = f\"{avg_hours:.1f} hrs\"\n",
    "\n",
    "    # d) Open-case aging buckets\n",
    "    a0, a1, a2 = pd.read_sql(f\"\"\"\n",
    "        SELECT\n",
    "          COUNT(*) FILTER (WHERE now() - opened_ts <= INTERVAL '1 day')          AS bucket_0_1,\n",
    "          COUNT(*) FILTER (WHERE now() - opened_ts >  INTERVAL '1 day'\n",
    "                         AND now() - opened_ts <= INTERVAL '3 days')            AS bucket_1_3,\n",
    "          COUNT(*) FILTER (WHERE now() - opened_ts >  INTERVAL '3 days')         AS bucket_3_plus\n",
    "        FROM castro_311\n",
    "       WHERE opened_ts::date = '{dt_str}'\n",
    "         AND closed_ts IS NULL;\n",
    "    \"\"\", engine).iloc[0]\n",
    "    aging_str = f\"0–1 d={a0}, 1–3 d={a1}, 3+ d={a2}\"\n",
    "\n",
    "    # e) Raw metrics block\n",
    "    req_table = df_req.to_markdown(index=False) if not df_req.empty else \"*no request types*\"\n",
    "    md_lines += [\n",
    "        f\"## {dt_str}\",\n",
    "        \"\",\n",
    "        \"### Raw Metrics\",\n",
    "        \"\",\n",
    "        f\"• Total cases: {total}  \",\n",
    "        f\"• Open: {open_count}  \",\n",
    "        f\"• Closed: {closed_count}  \",\n",
    "        \"\",\n",
    "        \"**Request Type Breakdown:**\",\n",
    "        \"\",\n",
    "        req_table,\n",
    "        \"\",\n",
    "        f\"**Average resolution time:** {avg_str}  \",\n",
    "        f\"**Open-case aging:** {aging_str}\",\n",
    "        \"\"\n",
    "    ]\n",
    "\n",
    "    # f) AI report\n",
    "    if total == 0:\n",
    "        ai_report = f\"No updates or edits on {dt_str}.\"\n",
    "    else:\n",
    "        prompt = prompt_template.format(\n",
    "            date=dt_str,\n",
    "            total=total,\n",
    "            open_count=open_count,\n",
    "            closed_count=closed_count,\n",
    "            request_table=req_table,\n",
    "            avg_time=avg_str,\n",
    "            aging=aging_str\n",
    "        )\n",
    "        resp = requests.post(url, json={\n",
    "            \"model\":    \"smollm2:1.7b\",\n",
    "            \"stream\":   False,\n",
    "            \"messages\": [{\"role\": \"user\", \"content\": prompt}]\n",
    "        })\n",
    "        resp.raise_for_status()\n",
    "        data = resp.json()\n",
    "\n",
    "        if \"choices\" in data and data[\"choices\"]:\n",
    "            ai_report = data[\"choices\"][0][\"message\"][\"content\"].strip()\n",
    "        elif \"message\" in data:\n",
    "            ai_report = data[\"message\"][\"content\"].strip()\n",
    "        else:\n",
    "            ai_report = \"_⚠️ AI returned empty response_\"\n",
    "\n",
    "    md_lines += [\n",
    "        \"### AI Report\",\n",
    "        \"\",\n",
    "        ai_report,\n",
    "        \"\"\n",
    "    ]\n",
    "\n",
    "# 4) Write out\n",
    "output_path = \"castro_ai_summary.md\"\n",
    "with open(output_path, \"w\") as f:\n",
    "    f.write(\"\\n\".join(md_lines))\n",
    "\n",
    "print(f\"✅ Written {len(md_lines)} lines to '{output_path}' ({os.path.getsize(output_path)} bytes)\")"
   ]
  },
  {
   "cell_type": "code",
   "execution_count": null,
   "id": "13738dc1-2641-47b7-9801-6127b3d06dcf",
   "metadata": {},
   "outputs": [],
   "source": [
    "%%bash\n",
    "# sync with remote (ignore pull errors)\n",
    "git pull --rebase origin main 2>/dev/null || true\n",
    "\n",
    "# stage all changes\n",
    "git add -A\n",
    "\n",
    "# commit and push only if there’s something new\n",
    "if ! git diff --cached --quiet; then\n",
    "  git commit -m \"chore: update Castro AI summary\"\n",
    "  git push origin main\n",
    "else\n",
    "  echo \"No new changes, skipping commit\"\n",
    "fi"
   ]
  }
 ],
 "metadata": {
  "kernelspec": {
   "display_name": "GIS Environment",
   "language": "python",
   "name": "gis"
  },
  "language_info": {
   "codemirror_mode": {
    "name": "ipython",
    "version": 3
   },
   "file_extension": ".py",
   "mimetype": "text/x-python",
   "name": "python",
   "nbconvert_exporter": "python",
   "pygments_lexer": "ipython3",
   "version": "3.11.13"
  }
 },
 "nbformat": 4,
 "nbformat_minor": 5
}
