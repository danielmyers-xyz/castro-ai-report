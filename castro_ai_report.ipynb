{
 "cells": [
  {
   "cell_type": "code",
   "execution_count": 1,
   "id": "80edd8fe-8e54-45b3-bbbe-2b25541c67c1",
   "metadata": {},
   "outputs": [],
   "source": [
    "# 1. Load environment variables and create the SQLAlchemy engine\n",
    "import os\n",
    "from dotenv import load_dotenv\n",
    "from sqlalchemy import create_engine\n",
    "import pandas as pd\n",
    "from datetime import date, timedelta\n",
    "import requests, json\n",
    "from sqlalchemy import text\n",
    "from pathlib import Path"
   ]
  },
  {
   "cell_type": "code",
   "execution_count": 2,
   "id": "f96cdd11-c10b-45d2-ad39-ffa367e1f7b4",
   "metadata": {},
   "outputs": [
    {
     "data": {
      "text/plain": [
       "True"
      ]
     },
     "execution_count": 2,
     "metadata": {},
     "output_type": "execute_result"
    }
   ],
   "source": [
    "# Load .env from working directory\n",
    "load_dotenv('.env')"
   ]
  },
  {
   "cell_type": "code",
   "execution_count": 3,
   "id": "713c80c3-4e79-4b60-8ec3-4638d623abca",
   "metadata": {},
   "outputs": [],
   "source": [
    "# PostGIS connection vars\n",
    "POSTGIS_USER = os.getenv('POSTGRES_USER')\n",
    "POSTGIS_PASS = os.getenv('POSTGRES_PASSWORD')\n",
    "POSTGIS_HOST = os.getenv('POSTGRES_HOST')\n",
    "POSTGIS_PORT = os.getenv('POSTGRES_PORT')\n",
    "POSTGIS_DB   = os.getenv('POSTGRES_DB')\n",
    "\n",
    "# Create the engine\n",
    "engine = create_engine(\n",
    "    f\"postgresql+psycopg2://\"\n",
    "    f\"{POSTGIS_USER}:{POSTGIS_PASS}\"\n",
    "    f\"@{POSTGIS_HOST}:{POSTGIS_PORT}/{POSTGIS_DB}\"\n",
    ")"
   ]
  },
  {
   "cell_type": "code",
   "execution_count": 4,
   "id": "fb968bc5-bd40-4d77-9db4-a63be4f2d526",
   "metadata": {},
   "outputs": [],
   "source": [
    "url = \"http://localhost:11434/api/chat\""
   ]
  },
  {
   "cell_type": "code",
   "execution_count": 5,
   "id": "038cec97-fb9f-4b4f-9b28-c42cd39609f5",
   "metadata": {},
   "outputs": [
    {
     "name": "stdout",
     "output_type": "stream",
     "text": [
      "[datetime.date(2025, 7, 9), datetime.date(2025, 7, 10), datetime.date(2025, 7, 11)]\n"
     ]
    }
   ],
   "source": [
    "# 1) Define the last 3 full days (excluding today)\n",
    "end_exclusive = date.today()\n",
    "start_date   = end_exclusive - timedelta(days=3)   # 3 days before today\n",
    "date_list    = [start_date + timedelta(days=i) for i in range(3)]  \n",
    "today = date.today()\n",
    "\n",
    "# check\n",
    "print(date_list)"
   ]
  },
  {
   "cell_type": "code",
   "execution_count": 6,
   "id": "0a3f29b4-6064-4373-979e-0b05eaa91463",
   "metadata": {},
   "outputs": [],
   "source": [
    "prompt_template = \"\"\"\n",
    "Here are the SF 311 metrics for {date}:\n",
    "\n",
    "**Request Type Breakdown**  \n",
    "{request_table}\n",
    "\n",
    "**Average resolution time:** {avg_time}  \n",
    "**Open-case aging:** {aging}\n",
    "\n",
    "Please write a concise, dashboard-style report that follows this structure exactly:\n",
    "\n",
    "1. **Summary:** “{open_count} open vs. {closed_count} closed cases.”  \n",
    "2. **Top 3 Request Types:** A bulleted list of the three request types.\n",
    "3. **Closing:** One sentence commenting on the resolution speed ({avg_time}) and the open-case aging distribution ({aging}).\n",
    "\n",
    "Use only the numbers shown above; do not add any extra interpretation. Keep it to 5–7 lines of plain text.\n",
    "\"\"\".strip()"
   ]
  },
  {
   "cell_type": "code",
   "execution_count": 7,
   "id": "540434e2-fdb9-4d78-9ba5-fe235e522680",
   "metadata": {},
   "outputs": [
    {
     "name": "stdout",
     "output_type": "stream",
     "text": [
      "✅ Written summary for 2025-07-10 to castro_ai_summary.md\n"
     ]
    }
   ],
   "source": [
    "# 1) Find the last non-empty date\n",
    "last_dt = None\n",
    "for dt in reversed(date_list):\n",
    "    count = pd.read_sql(f\"\"\"\n",
    "        SELECT COUNT(*) AS cnt\n",
    "          FROM castro_311\n",
    "         WHERE opened_ts::date = '{dt.isoformat()}';\n",
    "    \"\"\", engine).iloc[0, 0]\n",
    "    if count > 0:\n",
    "        last_dt = dt\n",
    "        break\n",
    "\n",
    "# 2) If none found, just write the header and exit\n",
    "if last_dt is None:\n",
    "    md_lines = [\"# SF Castro 311 Dashboard Summary (no data)\", \"\"]\n",
    "else:\n",
    "    dt_str = last_dt.isoformat()\n",
    "    md_lines = [f\"# SF Castro 311 Dashboard Summary ({dt_str})\", \"\"]\n",
    "\n",
    "    # a) Pull status counts\n",
    "    df_status = pd.read_sql(f\"\"\"\n",
    "        SELECT status, COUNT(*) AS count\n",
    "          FROM castro_311\n",
    "         WHERE opened_ts::date = '{dt_str}'\n",
    "         GROUP BY status;\n",
    "    \"\"\", engine)\n",
    "    open_count   = int(df_status.loc[df_status.status == 'Open',   'count'].sum() or 0)\n",
    "    closed_count = int(df_status.loc[df_status.status == 'Closed', 'count'].sum() or 0)\n",
    "    total = open_count + closed_count\n",
    "\n",
    "    # b) Pull request_type counts\n",
    "    df_req = pd.read_sql(f\"\"\"\n",
    "        SELECT request_type, COUNT(*) AS count\n",
    "          FROM castro_311\n",
    "         WHERE opened_ts::date = '{dt_str}'\n",
    "         GROUP BY request_type\n",
    "         ORDER BY count DESC;\n",
    "    \"\"\", engine)\n",
    "\n",
    "    # c) Average resolution time\n",
    "    avg_hours = pd.read_sql(f\"\"\"\n",
    "        SELECT AVG(EXTRACT(EPOCH FROM (closed_ts - opened_ts)))/3600.0 AS avg_hours\n",
    "          FROM castro_311\n",
    "         WHERE opened_ts::date = '{dt_str}'\n",
    "           AND closed_ts IS NOT NULL;\n",
    "    \"\"\", engine).iloc[0,0] or 0\n",
    "    avg_str = f\"{avg_hours:.1f} hrs\"\n",
    "\n",
    "    # d) Aging buckets\n",
    "    a0, a1, a2 = pd.read_sql(f\"\"\"\n",
    "        SELECT\n",
    "          COUNT(*) FILTER (WHERE now() - opened_ts <= INTERVAL '1 day')          AS bucket_0_1,\n",
    "          COUNT(*) FILTER (WHERE now() - opened_ts >  INTERVAL '1 day'\n",
    "                         AND now() - opened_ts <= INTERVAL '3 days')            AS bucket_1_3,\n",
    "          COUNT(*) FILTER (WHERE now() - opened_ts >  INTERVAL '3 days')         AS bucket_3_plus\n",
    "        FROM castro_311\n",
    "       WHERE opened_ts::date = '{dt_str}'\n",
    "         AND closed_ts IS NULL;\n",
    "    \"\"\", engine).iloc[0]\n",
    "    aging_str = f\"0–1 d={a0}, 1–3 d={a1}, 3+ d={a2}\"\n",
    "\n",
    "    # e) Build raw-metrics block\n",
    "    req_table = df_req.to_markdown(index=False) if not df_req.empty else \"*no request types*\"\n",
    "    md_lines += [\n",
    "        f\"## {dt_str}\",\n",
    "        \"\",\n",
    "        \"### Raw Metrics\",\n",
    "        \"\",\n",
    "        f\"• Total cases: {total}  \",\n",
    "        f\"• Open: {open_count}  \",\n",
    "        f\"• Closed: {closed_count}  \",\n",
    "        \"\",\n",
    "        \"**Request Type Breakdown:**\",\n",
    "        \"\",\n",
    "        req_table,\n",
    "        \"\",\n",
    "        f\"**Average resolution time:** {avg_str}  \",\n",
    "        f\"**Open-case aging:** {aging_str}\",\n",
    "        \"\"\n",
    "    ]\n",
    "\n",
    "    # f) AI Report\n",
    "    prompt = prompt_template.format(\n",
    "        date=dt_str,\n",
    "        total=total,\n",
    "        open_count=open_count,\n",
    "        closed_count=closed_count,\n",
    "        request_table=req_table,\n",
    "        avg_time=avg_str,\n",
    "        aging=aging_str\n",
    "    )\n",
    "    resp = requests.post(url, json={\n",
    "        \"model\":    \"dolphin-mistral:latest\",\n",
    "        \"stream\":   False,\n",
    "        \"messages\": [{\"role\": \"user\", \"content\": prompt}]\n",
    "    })\n",
    "    resp.raise_for_status()\n",
    "    data = resp.json()\n",
    "    ai_report = (\n",
    "        data[\"choices\"][0][\"message\"][\"content\"].strip()\n",
    "        if \"choices\" in data and data[\"choices\"]\n",
    "        else data.get(\"message\",{}).get(\"content\",\"_⚠️ AI returned empty response_\")\n",
    "    )\n",
    "\n",
    "    md_lines += [\n",
    "        \"### AI Report\",\n",
    "        \"\",\n",
    "        ai_report,\n",
    "        \"\"\n",
    "    ]\n",
    "\n",
    "# 3) Write to file (pathlib ensures overwrite)\n",
    "output_path = Path(\"castro_ai_summary.md\")\n",
    "output_path.write_text(\"\\n\".join(md_lines))\n",
    "print(f\"✅ Written summary for {last_dt or 'no date'} to {output_path}\")"
   ]
  },
  {
   "cell_type": "code",
   "execution_count": 9,
   "id": "13738dc1-2641-47b7-9801-6127b3d06dcf",
   "metadata": {},
   "outputs": [
    {
     "name": "stdout",
     "output_type": "stream",
     "text": [
      "[main a02cd3b] chore: update Castro AI summary\n",
      " 1 file changed, 49 insertions(+), 4 deletions(-)\n"
     ]
    },
    {
     "name": "stderr",
     "output_type": "stream",
     "text": [
      "To github.com:danielmyers-xyz/castro-ai-report.git\n",
      " ! [rejected]        main -> main (non-fast-forward)\n",
      "error: failed to push some refs to 'github.com:danielmyers-xyz/castro-ai-report.git'\n",
      "hint: Updates were rejected because the tip of your current branch is behind\n",
      "hint: its remote counterpart. If you want to integrate the remote changes,\n",
      "hint: use 'git pull' before pushing again.\n",
      "hint: See the 'Note about fast-forwards' in 'git push --help' for details.\n"
     ]
    },
    {
     "ename": "CalledProcessError",
     "evalue": "Command 'b'# sync with remote (ignore pull errors)\\ngit pull --rebase origin main 2>/dev/null || true\\n\\n# stage all changes\\ngit add -A\\n\\n# commit and push only if there\\xe2\\x80\\x99s something new\\nif ! git diff --cached --quiet; then\\n  git commit -m \"chore: update Castro AI summary\"\\n  git push origin main\\nelse\\n  echo \"No new changes, skipping commit\"\\nfi\\n'' returned non-zero exit status 1.",
     "output_type": "error",
     "traceback": [
      "\u001b[31m---------------------------------------------------------------------------\u001b[39m",
      "\u001b[31mCalledProcessError\u001b[39m                        Traceback (most recent call last)",
      "\u001b[36mCell\u001b[39m\u001b[36m \u001b[39m\u001b[32mIn[9]\u001b[39m\u001b[32m, line 1\u001b[39m\n\u001b[32m----> \u001b[39m\u001b[32m1\u001b[39m get_ipython().run_cell_magic(\u001b[33m'\u001b[39m\u001b[33mbash\u001b[39m\u001b[33m'\u001b[39m, \u001b[33m'\u001b[39m\u001b[33m'\u001b[39m, \u001b[33m'\u001b[39m\u001b[33m# sync with remote (ignore pull errors)\u001b[39m\u001b[38;5;130;01m\\n\u001b[39;00m\u001b[33mgit pull --rebase origin main 2>/dev/null || true\u001b[39m\u001b[38;5;130;01m\\n\u001b[39;00m\u001b[38;5;130;01m\\n\u001b[39;00m\u001b[33m# stage all changes\u001b[39m\u001b[38;5;130;01m\\n\u001b[39;00m\u001b[33mgit add -A\u001b[39m\u001b[38;5;130;01m\\n\u001b[39;00m\u001b[38;5;130;01m\\n\u001b[39;00m\u001b[33m# commit and push only if there’s something new\u001b[39m\u001b[38;5;130;01m\\n\u001b[39;00m\u001b[33mif ! git diff --cached --quiet; then\u001b[39m\u001b[38;5;130;01m\\n\u001b[39;00m\u001b[33m  git commit -m \u001b[39m\u001b[33m\"\u001b[39m\u001b[33mchore: update Castro AI summary\u001b[39m\u001b[33m\"\u001b[39m\u001b[38;5;130;01m\\n\u001b[39;00m\u001b[33m  git push origin main\u001b[39m\u001b[38;5;130;01m\\n\u001b[39;00m\u001b[33melse\u001b[39m\u001b[38;5;130;01m\\n\u001b[39;00m\u001b[33m  echo \u001b[39m\u001b[33m\"\u001b[39m\u001b[33mNo new changes, skipping commit\u001b[39m\u001b[33m\"\u001b[39m\u001b[38;5;130;01m\\n\u001b[39;00m\u001b[33mfi\u001b[39m\u001b[38;5;130;01m\\n\u001b[39;00m\u001b[33m'\u001b[39m)\n",
      "\u001b[36mFile \u001b[39m\u001b[32m~/miniconda3/envs/gis/lib/python3.11/site-packages/IPython/core/interactiveshell.py:2547\u001b[39m, in \u001b[36mInteractiveShell.run_cell_magic\u001b[39m\u001b[34m(self, magic_name, line, cell)\u001b[39m\n\u001b[32m   2545\u001b[39m \u001b[38;5;28;01mwith\u001b[39;00m \u001b[38;5;28mself\u001b[39m.builtin_trap:\n\u001b[32m   2546\u001b[39m     args = (magic_arg_s, cell)\n\u001b[32m-> \u001b[39m\u001b[32m2547\u001b[39m     result = fn(*args, **kwargs)\n\u001b[32m   2549\u001b[39m \u001b[38;5;66;03m# The code below prevents the output from being displayed\u001b[39;00m\n\u001b[32m   2550\u001b[39m \u001b[38;5;66;03m# when using magics with decorator @output_can_be_silenced\u001b[39;00m\n\u001b[32m   2551\u001b[39m \u001b[38;5;66;03m# when the last Python token in the expression is a ';'.\u001b[39;00m\n\u001b[32m   2552\u001b[39m \u001b[38;5;28;01mif\u001b[39;00m \u001b[38;5;28mgetattr\u001b[39m(fn, magic.MAGIC_OUTPUT_CAN_BE_SILENCED, \u001b[38;5;28;01mFalse\u001b[39;00m):\n",
      "\u001b[36mFile \u001b[39m\u001b[32m~/miniconda3/envs/gis/lib/python3.11/site-packages/IPython/core/magics/script.py:159\u001b[39m, in \u001b[36mScriptMagics._make_script_magic.<locals>.named_script_magic\u001b[39m\u001b[34m(line, cell)\u001b[39m\n\u001b[32m    157\u001b[39m \u001b[38;5;28;01melse\u001b[39;00m:\n\u001b[32m    158\u001b[39m     line = script\n\u001b[32m--> \u001b[39m\u001b[32m159\u001b[39m \u001b[38;5;28;01mreturn\u001b[39;00m \u001b[38;5;28mself\u001b[39m.shebang(line, cell)\n",
      "\u001b[36mFile \u001b[39m\u001b[32m~/miniconda3/envs/gis/lib/python3.11/site-packages/IPython/core/magics/script.py:336\u001b[39m, in \u001b[36mScriptMagics.shebang\u001b[39m\u001b[34m(self, line, cell)\u001b[39m\n\u001b[32m    331\u001b[39m \u001b[38;5;28;01mif\u001b[39;00m args.raise_error \u001b[38;5;129;01mand\u001b[39;00m p.returncode != \u001b[32m0\u001b[39m:\n\u001b[32m    332\u001b[39m     \u001b[38;5;66;03m# If we get here and p.returncode is still None, we must have\u001b[39;00m\n\u001b[32m    333\u001b[39m     \u001b[38;5;66;03m# killed it but not yet seen its return code. We don't wait for it,\u001b[39;00m\n\u001b[32m    334\u001b[39m     \u001b[38;5;66;03m# in case it's stuck in uninterruptible sleep. -9 = SIGKILL\u001b[39;00m\n\u001b[32m    335\u001b[39m     rc = p.returncode \u001b[38;5;129;01mor\u001b[39;00m -\u001b[32m9\u001b[39m\n\u001b[32m--> \u001b[39m\u001b[32m336\u001b[39m     \u001b[38;5;28;01mraise\u001b[39;00m CalledProcessError(rc, cell)\n",
      "\u001b[31mCalledProcessError\u001b[39m: Command 'b'# sync with remote (ignore pull errors)\\ngit pull --rebase origin main 2>/dev/null || true\\n\\n# stage all changes\\ngit add -A\\n\\n# commit and push only if there\\xe2\\x80\\x99s something new\\nif ! git diff --cached --quiet; then\\n  git commit -m \"chore: update Castro AI summary\"\\n  git push origin main\\nelse\\n  echo \"No new changes, skipping commit\"\\nfi\\n'' returned non-zero exit status 1."
     ]
    }
   ],
   "source": [
    "%%bash\n",
    "# sync with remote (ignore pull errors)\n",
    "git pull --rebase origin main 2>/dev/null || true\n",
    "\n",
    "# stage all changes\n",
    "git add -A\n",
    "\n",
    "# commit and push only if there’s something new\n",
    "if ! git diff --cached --quiet; then\n",
    "  git commit -m \"chore: update Castro AI summary\"\n",
    "  git push origin main\n",
    "else\n",
    "  echo \"No new changes, skipping commit\"\n",
    "fi"
   ]
  },
  {
   "cell_type": "code",
   "execution_count": null,
   "id": "10e4715c-cc06-441e-8ae4-48c4df7b9d14",
   "metadata": {},
   "outputs": [],
   "source": [
    "%run /mnt/scripts/py/update_report.py"
   ]
  },
  {
   "cell_type": "code",
   "execution_count": null,
   "id": "090d62be-0b1b-4b05-8886-998fcd5024d7",
   "metadata": {},
   "outputs": [],
   "source": []
  }
 ],
 "metadata": {
  "kernelspec": {
   "display_name": "GIS Environment",
   "language": "python",
   "name": "gis"
  },
  "language_info": {
   "codemirror_mode": {
    "name": "ipython",
    "version": 3
   },
   "file_extension": ".py",
   "mimetype": "text/x-python",
   "name": "python",
   "nbconvert_exporter": "python",
   "pygments_lexer": "ipython3",
   "version": "3.11.13"
  }
 },
 "nbformat": 4,
 "nbformat_minor": 5
}
